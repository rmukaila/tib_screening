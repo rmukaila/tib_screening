{
 "cells": [
  {
   "cell_type": "code",
   "execution_count": 1,
   "id": "05a80e73",
   "metadata": {},
   "outputs": [],
   "source": [
    "from bertopic import BERTopic\n",
    "from sklearn.datasets import fetch_20newsgroups"
   ]
  },
  {
   "cell_type": "code",
   "execution_count": 2,
   "id": "020c9a88",
   "metadata": {},
   "outputs": [],
   "source": [
    "data = fetch_20newsgroups(subset='all',  remove=('headers', 'footers', 'quotes'))\n",
    "docs = data[\"data\"]\n",
    "categories = data[\"target\"]\n",
    "category_names = data[\"target_names\"]"
   ]
  },
  {
   "cell_type": "code",
   "execution_count": 21,
   "id": "cd3b83fd",
   "metadata": {},
   "outputs": [],
   "source": [
    "# docs[:4]"
   ]
  },
  {
   "cell_type": "code",
   "execution_count": 28,
   "id": "20011169",
   "metadata": {},
   "outputs": [
    {
     "data": {
      "application/vnd.jupyter.widget-view+json": {
       "model_id": "8bd33e4781cd47bbb2a9afbe2fe824a7",
       "version_major": 2,
       "version_minor": 0
      },
      "text/plain": [
       "Batches:   0%|          | 0/7 [00:00<?, ?it/s]"
      ]
     },
     "metadata": {},
     "output_type": "display_data"
    },
    {
     "name": "stderr",
     "output_type": "stream",
     "text": [
      "2022-06-30 09:24:45,222 - BERTopic - Transformed documents to Embeddings\n",
      "2022-06-30 09:24:46,714 - BERTopic - Reduced dimensionality\n",
      "2022-06-30 09:24:46,723 - BERTopic - Clustered reduced embeddings\n",
      "/home/emotionless/.local/lib/python3.8/site-packages/sklearn/utils/deprecation.py:87: FutureWarning: Function get_feature_names is deprecated; get_feature_names is deprecated in 1.0 and will be removed in 1.2. Please use get_feature_names_out instead.\n",
      "  warnings.warn(msg, category=FutureWarning)\n"
     ]
    }
   ],
   "source": [
    "topic_model = BERTopic(n_gram_range=(1,5),top_n_words=10,verbose=True).fit(docs[:201])#,y=category_names)"
   ]
  },
  {
   "cell_type": "code",
   "execution_count": 31,
   "id": "526a4f2e",
   "metadata": {},
   "outputs": [
    {
     "data": {
      "text/plain": [
       "{-1: [('the', 0.03806697491961546),\n",
       "  ('to', 0.022585744626565124),\n",
       "  ('of', 0.021385025668922093),\n",
       "  ('and', 0.01585540755167047),\n",
       "  ('in', 0.013841363931209725),\n",
       "  ('that', 0.012303351134756228),\n",
       "  ('is', 0.012090697772545124),\n",
       "  ('for', 0.010915754716645465),\n",
       "  ('it', 0.010766306945209312),\n",
       "  ('was', 0.009727309195828851)],\n",
       " 0: [('the', 0.029334442381065834),\n",
       "  ('to', 0.022110077821572892),\n",
       "  ('and', 0.019123140973749946),\n",
       "  ('is', 0.01411960241378246),\n",
       "  ('of', 0.014105450390976892),\n",
       "  ('for', 0.014022245158995212),\n",
       "  ('it', 0.012712669094474664),\n",
       "  ('have', 0.01237561046387113),\n",
       "  ('that', 0.011042028358695707),\n",
       "  ('in', 0.010686228257054002)],\n",
       " 1: [('the', 0.040753680975535264),\n",
       "  ('of', 0.023853975006619007),\n",
       "  ('to', 0.020260647048514508),\n",
       "  ('and', 0.019743634177747098),\n",
       "  ('in', 0.01769083196069249),\n",
       "  ('that', 0.014123523061142989),\n",
       "  ('is', 0.013552064951739138),\n",
       "  ('you', 0.010710154238670937),\n",
       "  ('it', 0.009933907491550455),\n",
       "  ('of the', 0.009128664344258798)],\n",
       " 2: [('the', 0.01966444576891277),\n",
       "  ('to', 0.011468963309432204),\n",
       "  ('in', 0.0110700401463055),\n",
       "  ('he', 0.009906542158034671),\n",
       "  ('and', 0.009503198946906478),\n",
       "  ('in the', 0.007843856649740964),\n",
       "  ('is', 0.007235974437541875),\n",
       "  ('as', 0.007200027616188609),\n",
       "  ('of', 0.006690068953579288),\n",
       "  ('dave', 0.005817774888830874)]}"
      ]
     },
     "execution_count": 31,
     "metadata": {},
     "output_type": "execute_result"
    }
   ],
   "source": [
    "topic_model.get_topic_info()\n",
    "topic_model.get_topics()"
   ]
  },
  {
   "cell_type": "code",
   "execution_count": null,
   "id": "1a74e6a9",
   "metadata": {},
   "outputs": [],
   "source": []
  }
 ],
 "metadata": {
  "kernelspec": {
   "display_name": "Python 3 (ipykernel)",
   "language": "python",
   "name": "python3"
  },
  "language_info": {
   "codemirror_mode": {
    "name": "ipython",
    "version": 3
   },
   "file_extension": ".py",
   "mimetype": "text/x-python",
   "name": "python",
   "nbconvert_exporter": "python",
   "pygments_lexer": "ipython3",
   "version": "3.8.10"
  }
 },
 "nbformat": 4,
 "nbformat_minor": 5
}
