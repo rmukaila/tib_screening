{
 "cells": [
  {
   "cell_type": "code",
   "execution_count": 14,
   "id": "8f82f5e0",
   "metadata": {},
   "outputs": [],
   "source": [
    "%%capture --no-display \n",
    "#The above line turns of irrelevant warnings the were being reported\n",
    "import pandas as pd\n",
    "from keyphrase_vectorizers import KeyphraseCountVectorizer\n",
    "from keybert import KeyBERT\n",
    "from keyphrase_vectorizers import KeyphraseCountVectorizer\n",
    "from helpers import get_preprocessed_data"
   ]
  },
  {
   "cell_type": "code",
   "execution_count": 2,
   "id": "3b7be57e",
   "metadata": {},
   "outputs": [],
   "source": [
    "#Data preprocessing\n",
    "#Both the training and test data were cloned into\n",
    "#separate local repositories as training-data and test-data respectively\n",
    "\n",
    "training_data_path = \"../../ncg_task_repo/training-data/*/*/info-units/research-problem.json\"\n",
    "test_data_path = \"../../ncg_task_repo/test-data/*/*/info-units/research-problem.json\"\n",
    "\n",
    "#Create a dict of all the the research problem sentence and respective phrase\n",
    "research_keyPhrase_and_sentence_dict, json_cnts = get_preprocessed_data(training_data_path)\n",
    "\n",
    "test_keyPhrase_and_sentence_dict, test_json_cnts = get_preprocessed_data(test_data_path)\n",
    "\n",
    "train_docs = list(research_keyPhrase_and_sentence_dict.values())\n",
    "\n",
    "train_labels = list(research_keyPhrase_and_sentence_dict.keys())\n",
    "\n",
    "test_docs = list(test_keyPhrase_and_sentence_dict.values())"
   ]
  },
  {
   "cell_type": "code",
   "execution_count": 3,
   "id": "21fb4af9",
   "metadata": {},
   "outputs": [],
   "source": [
    "# Init default vectorizer.\n",
    "vectorizer = KeyphraseCountVectorizer()\n",
    "# print(vectorizer.get_params())"
   ]
  },
  {
   "cell_type": "code",
   "execution_count": 4,
   "id": "ecb59824",
   "metadata": {},
   "outputs": [
    {
     "name": "stdout",
     "output_type": "stream",
     "text": [
      "[[0 0 0 ... 0 0 0]\n",
      " [0 0 0 ... 0 0 0]\n",
      " [0 0 0 ... 0 0 0]\n",
      " ...\n",
      " [0 0 0 ... 0 0 0]\n",
      " [0 0 0 ... 0 0 0]\n",
      " [0 0 0 ... 0 0 0]]\n"
     ]
    }
   ],
   "source": [
    "document_keyphrase_matrix = vectorizer.fit_transform(train_docs).toarray()\n",
    "print(document_keyphrase_matrix)"
   ]
  },
  {
   "cell_type": "code",
   "execution_count": 5,
   "id": "4cd39ea2",
   "metadata": {},
   "outputs": [],
   "source": [
    "keyphrases = vectorizer.get_feature_names_out()\n",
    "# print(keyphrases[:100])"
   ]
  },
  {
   "cell_type": "code",
   "execution_count": 6,
   "id": "510cceed",
   "metadata": {},
   "outputs": [],
   "source": [
    "# Init KeyBERT\n",
    "research_problem_model = KeyBERT()\n",
    "# research_problem_model.extract_keywords(docs=train_docs, keyphrase_ngram_range=(1,2))"
   ]
  },
  {
   "cell_type": "code",
   "execution_count": 7,
   "id": "8b628593",
   "metadata": {},
   "outputs": [],
   "source": [
    "%%capture --no-display \n",
    "#The above line turns of irrelevant warnings the were being reported\n",
    "\n",
    "keyPhrases = research_problem_model.extract_keywords(docs=train_docs, vectorizer=KeyphraseCountVectorizer())"
   ]
  },
  {
   "cell_type": "code",
   "execution_count": 8,
   "id": "ed4e6cfb",
   "metadata": {},
   "outputs": [
    {
     "data": {
      "text/plain": [
       "[[('token', 0.2733),\n",
       "  ('conversion', 0.2934),\n",
       "  ('phoneme', 0.3567),\n",
       "  ('level ensemble distillation', 0.5382),\n",
       "  ('grapheme', 0.5524)],\n",
       " [('g2p', 0.4203),\n",
       "  ('phoneme', 0.4532),\n",
       "  ('automatic speech recognition', 0.4773),\n",
       "  ('speech systems', 0.4931),\n",
       "  ('grapheme', 0.5763)],\n",
       " [('fast', 0.1955),\n",
       "  ('speech', 0.4257),\n",
       "  ('text', 0.4416),\n",
       "  ('fastspeech', 0.4749),\n",
       "  ('controllable text', 0.5102)]]"
      ]
     },
     "execution_count": 8,
     "metadata": {},
     "output_type": "execute_result"
    }
   ],
   "source": [
    "keyPhrases[:3]"
   ]
  },
  {
   "cell_type": "code",
   "execution_count": 9,
   "id": "ca44edd9",
   "metadata": {},
   "outputs": [],
   "source": [
    "#Create a list of the keyPhrases with the maximum cosine similarity values\n",
    "def get_predicted_keyPhrases(all_predictions):\n",
    "    higherCosineS_keyPhrases = []\n",
    "    all_keyPhrases = all_predictions\n",
    "    for item2 in all_keyPhrases:\n",
    "        max_cosine =0\n",
    "        max_cosine_phrase = None\n",
    "        for phrase_tuple in item2:\n",
    "            if phrase_tuple[1]>max_cosine:\n",
    "                max_cosine = phrase_tuple[1]\n",
    "                max_cosine_phrase = phrase_tuple[0]\n",
    "\n",
    "        higherCosineS_keyPhrases.append(max_cosine_phrase)\n",
    "        \n",
    "    return higherCosineS_keyPhrases"
   ]
  },
  {
   "cell_type": "code",
   "execution_count": 10,
   "id": "11694a48",
   "metadata": {},
   "outputs": [],
   "source": [
    "higherCosineS_keyPhrases = get_predicted_keyPhrases(keyPhrases)\n",
    "pd"
   ]
  },
  {
   "cell_type": "code",
   "execution_count": 11,
   "id": "d0c518fc",
   "metadata": {},
   "outputs": [
    {
     "data": {
      "text/plain": [
       "['topic identification',\n",
       " 'document embeddings',\n",
       " 'smile recognition',\n",
       " 'smile recognition',\n",
       " 'multimodal speech emotion recognition',\n",
       " 'aspect based sentiment analysis',\n",
       " 'aspect sentiment classification',\n",
       " 'attentive rnn',\n",
       " 'sentiment classification',\n",
       " 'sentiment classification']"
      ]
     },
     "execution_count": 11,
     "metadata": {},
     "output_type": "execute_result"
    }
   ],
   "source": [
    "#Display the predicted keyPhrases between 10 and 20\n",
    "higherCosineS_keyPhrases[10:20]"
   ]
  },
  {
   "cell_type": "code",
   "execution_count": 12,
   "id": "bb963720",
   "metadata": {},
   "outputs": [
    {
     "data": {
      "text/plain": [
       "['topic identification',\n",
       " 'L EARNING word and document embeddings',\n",
       " 'Smile Recognition',\n",
       " 'facial expression recognition',\n",
       " 'SPEECH EMOTION RECOGNITION',\n",
       " 'Aspect - based Sentiment Analysis',\n",
       " 'aspect extraction',\n",
       " 'Emotion Detection in Conversations',\n",
       " 'Fine - grained Sentiment Classification',\n",
       " 'Sentiment classification']"
      ]
     },
     "execution_count": 12,
     "metadata": {},
     "output_type": "execute_result"
    }
   ],
   "source": [
    "train_labels[10:20]"
   ]
  },
  {
   "cell_type": "code",
   "execution_count": null,
   "id": "015ff686",
   "metadata": {},
   "outputs": [],
   "source": [
    "\"\"\"REFERENCE:\n",
    "\n",
    "https://towardsdatascience.com/enhancing-keybert-keyword-extraction-results-with-keyphrasevectorizers-3796fa93f4db\n",
    "\"\"\""
   ]
  },
  {
   "cell_type": "code",
   "execution_count": null,
   "id": "7a8665e6",
   "metadata": {},
   "outputs": [],
   "source": []
  }
 ],
 "metadata": {
  "kernelspec": {
   "display_name": "Python 3.8.5 64-bit ('base': conda)",
   "language": "python",
   "name": "python385jvsc74a57bd0cc0b39b73e6949057e82e0fccf6b8b6674bf387641e811617d69795976e90112"
  },
  "language_info": {
   "codemirror_mode": {
    "name": "ipython",
    "version": 3
   },
   "file_extension": ".py",
   "mimetype": "text/x-python",
   "name": "python",
   "nbconvert_exporter": "python",
   "pygments_lexer": "ipython3",
   "version": "3.8.5"
  }
 },
 "nbformat": 4,
 "nbformat_minor": 5
}
